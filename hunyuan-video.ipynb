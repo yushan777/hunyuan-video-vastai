{
 "cells": [
  {
   "attachments": {},
   "cell_type": "markdown",
   "id": "3b890b33-237b-4301-8b3b-b0d31448d088",
   "metadata": {},
   "source": [
    "## Install Dependencies"
   ]
  },
  {
   "cell_type": "code",
   "execution_count": null,
   "id": "1497c316-710b-4cf4-899f-22ecb7b56b84",
   "metadata": {},
   "outputs": [],
   "source": [
    "!pip install torchvision==0.19.0\n",
    "!pip install opencv-python==4.10.0.84\n",
    "!pip install diffusers==0.31.0\n",
    "!pip install transformers==4.47.0\n",
    "!pip install tokenizers==0.21.0\n",
    "!pip install accelerate==1.2.0\n",
    "!pip install pandas==2.2.3\n",
    "!pip install numpy==1.26.4\n",
    "!pip install einops==0.8.0\n",
    "!pip install tqdm==4.66.4\n",
    "!pip install loguru==0.7.3\n",
    "!pip install imageio==2.36.1\n",
    "!pip install imageio-ffmpeg==0.5.1\n",
    "!pip install safetensors==0.4.5\n",
    "!pip install packaging==24.1\n",
    "!pip install ninja==1.11.1.1\n",
    "!pip install flash-attn==2.5.9.post1\n",
    "# hf_transfer = for hugging-face high speed transfers\n",
    "!pip install huggingface_hub[hf_transfer]\n",
    "!pip install hf_transfer\n"
   ]
  },
  {
   "attachments": {},
   "cell_type": "markdown",
   "id": "77b6fece-1402-49d5-8bb9-f4de4f4b6e3c",
   "metadata": {},
   "source": [
    "## Download Models & Text Encoders from HF"
   ]
  },
  {
   "cell_type": "code",
   "execution_count": null,
   "id": "adbd7214-0b14-4bca-81d4-3b5287fd182f",
   "metadata": {},
   "outputs": [],
   "source": [
    "# For the token input\n",
    "from getpass import getpass\n",
    "import os\n",
    "\n",
    "HF_TOKEN = getpass(\"Enter or paste your Hugging Face access token: \")\n",
    "\n",
    "# Login and set environment variable\n",
    "!huggingface-cli login --token $HF_TOKEN\n",
    "os.environ['HF_HUB_ENABLE_HF_TRANSFER'] = '1'\n",
    "\n",
    "# Change dir to ckpts\n",
    "%cd ckpts\n",
    "\n",
    "# Download the pretrained models\n",
    "!huggingface-cli download tencent/HunyuanVideo --local-dir .\n",
    "\n",
    "# Download Text Encoder\n",
    "!huggingface-cli download xtuner/llava-llama-3-8b-v1_1-transformers --local-dir ./llava-llama-3-8b-v1_1-transformers\n",
    "\n",
    "# Separate the lang model parts\n",
    "!python3 ../hyvideo/utils/preprocess_text_encoder_tokenizer_utils.py --input_dir llava-llama-3-8b-v1_1-transformers --output_dir text_encoder\n",
    "\n",
    "# Download clip text encoder\n",
    "!huggingface-cli download openai/clip-vit-large-patch14 --local-dir ./text_encoder_2\n",
    "\n",
    "# Go back one dir\n",
    "%cd .."
   ]
  },
  {
   "attachments": {},
   "cell_type": "markdown",
   "id": "7f0943d3",
   "metadata": {},
   "source": [
    "## Start Inferencing"
   ]
  },
  {
   "cell_type": "code",
   "execution_count": null,
   "id": "228bc914",
   "metadata": {},
   "outputs": [],
   "source": [
    "!python3 sample_video.py \\\n",
    "--video-size 720 1280 \\\n",
    "--video-length 129 \\\n",
    "--infer-steps 30 \\\n",
    "--prompt \" a teddy bear dancing, realistic.\" \\\n",
    "--flow-reverse \\\n",
    "--seed 0 \\\n",
    "--use-cpu-offload \\\n",
    "--save-path ./results\\"
   ]
  }
 ],
 "metadata": {
  "kernelspec": {
   "display_name": "Python 3 (ipykernel)",
   "language": "python",
   "name": "python3"
  },
  "language_info": {
   "codemirror_mode": {
    "name": "ipython",
    "version": 3
   },
   "file_extension": ".py",
   "mimetype": "text/x-python",
   "name": "python",
   "nbconvert_exporter": "python",
   "pygments_lexer": "ipython3",
   "version": "3.11.9"
  }
 },
 "nbformat": 4,
 "nbformat_minor": 5
}
