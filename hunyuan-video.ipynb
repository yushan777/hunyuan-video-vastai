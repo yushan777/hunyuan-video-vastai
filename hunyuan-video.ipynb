{
 "cells": [
  {
   "attachments": {},
   "cell_type": "markdown",
   "id": "e6eecf43-bb9e-48a1-b449-8efffb9d68a7",
   "metadata": {},
   "source": [
    "## Setup Conda Environment & Activate It"
   ]
  },
  {
   "cell_type": "code",
   "execution_count": null,
   "id": "816cd19c-ddf6-46c2-a50e-94967249ec0f",
   "metadata": {},
   "outputs": [],
   "source": [
    "# install miniconda\n",
    "wget https://repo.anaconda.com/miniconda/Miniconda3-latest-Linux-x86_64.sh\n",
    "chmod +x Miniconda3-latest-Linux-x86_64.sh\n",
    "./Miniconda3-latest-Linux-x86_64.sh -b\n",
    "\n",
    "# create environment\n",
    "conda env create -f environment.yml\n",
    "conda activate HunyuanVideo\n",
    "conda install gcc_linux-64 gxx_linux-64 -y conda install cuda -c nvidia -y"
   ]
  },
  {
   "attachments": {},
   "cell_type": "markdown",
   "id": "3b890b33-237b-4301-8b3b-b0d31448d088",
   "metadata": {},
   "source": [
    "## Install Dependencies"
   ]
  },
  {
   "cell_type": "code",
   "execution_count": null,
   "id": "1497c316-710b-4cf4-899f-22ecb7b56b84",
   "metadata": {},
   "outputs": [],
   "source": [
    "pip install -r requirements.txt\n",
    "pip install packaging\n",
    "pip install ninja\n",
    "pip install git+https://github.com/Dao-AILab/flash-attention.git@v2.5.9.post1\n",
    "\n",
    "# hf_transfer = for hugging-face high speed transfers\n",
    "pip install huggingface_hub[hf_transfer]\n"
   ]
  },
  {
   "attachments": {},
   "cell_type": "markdown",
   "id": "77b6fece-1402-49d5-8bb9-f4de4f4b6e3c",
   "metadata": {},
   "source": [
    "## Download Models & Text Encoders from HF"
   ]
  },
  {
   "cell_type": "code",
   "execution_count": null,
   "id": "adbd7214-0b14-4bca-81d4-3b5287fd182f",
   "metadata": {},
   "outputs": [],
   "source": [
    "read -sp \"Enter or paste your Hugging Face access token: \" HF_TOKEN\n",
    "echo\n",
    "\n",
    "huggingface-cli login --token $HF_TOKEN\n",
    "export HF_HUB_ENABLE_HF_TRANSFER=1\n",
    "\n",
    "# change dir to ckpts\n",
    "cd ckpts\n",
    "\n",
    "# download the pretrained models\n",
    "huggingface-cli download tencent/HunyuanVideo --local-dir .\n",
    "\n",
    "# Download Text Encoder\n",
    "huggingface-cli download xtuner/llava-llama-3-8b-v1_1-transformers --local-dir ./llava-llama-3-8b-v1_1-transformers\n",
    "\n",
    "# separate the lang model parts of llava-llama-3-8b-v1_1-transformers into text_encoder to conserve vram\n",
    "python3 ../hyvideo/utils/preprocess_text_encoder_tokenizer_utils.py --input_dir llava-llama-3-8b-v1_1-transformers --output_dir text_encoder\n",
    "\n",
    "# download clip text encoder\n",
    "huggingface-cli download openai/clip-vit-large-patch14 --local-dir ./text_encoder_2\n",
    "\n",
    "# go back one dir\n",
    "cd .."
   ]
  },
  {
   "attachments": {},
   "cell_type": "markdown",
   "id": "7f0943d3",
   "metadata": {},
   "source": [
    "## Start Inferencing"
   ]
  },
  {
   "cell_type": "code",
   "execution_count": null,
   "id": "228bc914",
   "metadata": {},
   "outputs": [],
   "source": [
    "python3 sample_video.py \\\n",
    "--video-size 720 1280 \\\n",
    "--video-length 129 \\\n",
    "--infer-steps 30 \\\n",
    "--prompt \" a teddy bear dancing, realistic.\" \\\n",
    "--flow-reverse \\\n",
    "--seed 0 \\\n",
    "--use-cpu-offload \\\n",
    "--save-path ./results\\"
   ]
  }
 ],
 "metadata": {
  "kernelspec": {
   "display_name": "Python 3 (ipykernel)",
   "language": "python",
   "name": "python3"
  },
  "language_info": {
   "codemirror_mode": {
    "name": "ipython",
    "version": 3
   },
   "file_extension": ".py",
   "mimetype": "text/x-python",
   "name": "python",
   "nbconvert_exporter": "python",
   "pygments_lexer": "ipython3",
   "version": "3.11.9"
  }
 },
 "nbformat": 4,
 "nbformat_minor": 5
}
